{
 "cells": [
  {
   "cell_type": "code",
   "execution_count": 20,
   "metadata": {},
   "outputs": [],
   "source": [
    "import math\n",
    "import vapory\n",
    "from PIL import Image"
   ]
  },
  {
   "cell_type": "code",
   "execution_count": 12,
   "metadata": {},
   "outputs": [],
   "source": [
    "def figure_from_line(l):\n",
    "    return [tuple(int(d) for d in fig) for fig in l.split(' ')]"
   ]
  },
  {
   "cell_type": "code",
   "execution_count": 60,
   "metadata": {},
   "outputs": [],
   "source": [
    "def create_scene(moment, figure):\n",
    "    angle = 2 * math.pi * moment / 360\n",
    "    r_camera = 10\n",
    "    camera = vapory.Camera('location', \n",
    "                           [r_camera * math.cos(angle), \n",
    "                            1.1*r_camera, \n",
    "                            r_camera * math.sin(angle)], \n",
    "                           'look_at', [0.0, -0.7, 0.0], \n",
    "                           'angle', 30)\n",
    "    light1 = vapory.LightSource([2, 4, -3], 'color', [1, 1, 1], 'shadowless')\n",
    "    light2 = vapory.LightSource([2, 4, 3], 'color', [1, 1, 1], 'shadowless')\n",
    "    plane = vapory.Plane([0, 1, 0], -2, vapory.Pigment('color', [1, 1, 1]))\n",
    "    # boxes = [vapory.Box([x-0.5, z-0.5, y-0.5], \n",
    "    #                     [x+0.5, z+0.5, y+0.5], \n",
    "    #                  vapory.Pigment('Col_Glass_Clear'),\n",
    "    #                  vapory.Finish('F_Glass9'),\n",
    "    #                  vapory.Interior('I_Glass1')) for (x, y, z) in figure]\n",
    "    boxes = [vapory.Box([x-0.5, z-0.5, y-0.5], \n",
    "                        [x+0.5, z+0.5, y+0.5], \n",
    "                     vapory.Texture(vapory.Pigment('color', [1, 1, 0]))\n",
    "                     ) for (x, y, z) in figure]\n",
    "    # spheres = [vapory.Sphere( [float(r[0]), float(r[1]), float(r[2])], 0.005, vapory.Texture(vapory.Pigment('color', [1, 1, 0]))) for r in X]\n",
    "    return vapory.Scene(camera, objects=[light1, light2, plane] + boxes, included=['glass.inc'])"
   ]
  },
  {
   "cell_type": "code",
   "execution_count": 70,
   "metadata": {},
   "outputs": [
    {
     "data": {
      "image/png": "[encoded data removed]",
      "text/plain": [
       "<PIL.PngImagePlugin.PngImageFile image mode=RGB size=800x600 at 0x7F36F89AD710>"
      ]
     },
     "metadata": {},
     "output_type": "display_data"
    }
   ],
   "source": [
    "ind = 13\n",
    "with open('/home/tass/prj/penta/penta.txt') as f:\n",
    "    figures = [figure_from_line(l.strip()) for l in f]\n",
    "scene = create_scene(40, figures[ind - 1])\n",
    "pic_flnm = 'fig_{:02d}.png'.format(ind)\n",
    "pic = scene.render(pic_flnm, width=800, height=600)\n",
    "display(Image.open(pic_flnm))"
   ]
  },
  {
   "cell_type": "code",
   "execution_count": null,
   "metadata": {},
   "outputs": [],
   "source": []
  },
  {
   "cell_type": "code",
   "execution_count": null,
   "metadata": {},
   "outputs": [],
   "source": []
  },
  {
   "cell_type": "code",
   "execution_count": null,
   "metadata": {},
   "outputs": [],
   "source": []
  },
  {
   "cell_type": "code",
   "execution_count": null,
   "metadata": {},
   "outputs": [],
   "source": []
  },
  {
   "cell_type": "code",
   "execution_count": null,
   "metadata": {},
   "outputs": [],
   "source": []
  },
  {
   "cell_type": "code",
   "execution_count": null,
   "metadata": {},
   "outputs": [],
   "source": []
  },
  {
   "cell_type": "code",
   "execution_count": null,
   "metadata": {},
   "outputs": [],
   "source": []
  },
  {
   "cell_type": "code",
   "execution_count": null,
   "metadata": {},
   "outputs": [],
   "source": []
  },
  {
   "cell_type": "code",
   "execution_count": null,
   "metadata": {},
   "outputs": [],
   "source": []
  },
  {
   "cell_type": "code",
   "execution_count": null,
   "metadata": {},
   "outputs": [],
   "source": []
  },
  {
   "cell_type": "code",
   "execution_count": null,
   "metadata": {},
   "outputs": [],
   "source": []
  },
  {
   "cell_type": "code",
   "execution_count": null,
   "metadata": {},
   "outputs": [],
   "source": []
  },
  {
   "cell_type": "code",
   "execution_count": null,
   "metadata": {},
   "outputs": [],
   "source": []
  },
  {
   "cell_type": "code",
   "execution_count": null,
   "metadata": {},
   "outputs": [],
   "source": []
  }
 ],
 "metadata": {
  "kernelspec": {
   "display_name": "Python 3",
   "language": "python",
   "name": "python3"
  },
  "language_info": {
   "codemirror_mode": {
    "name": "ipython",
    "version": 3
   },
   "file_extension": ".py",
   "mimetype": "text/x-python",
   "name": "python",
   "nbconvert_exporter": "python",
   "pygments_lexer": "ipython3",
   "version": "3.6.6"
  }
 },
 "nbformat": 4,
 "nbformat_minor": 2
}
